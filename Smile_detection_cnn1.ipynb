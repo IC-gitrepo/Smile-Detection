{
 "cells": [
  {
   "cell_type": "markdown",
   "metadata": {},
   "source": [
    "# Convolutional Neural Network Smile Detection\n",
    "    \n",
    "### Deep CNN: 2 hidden layers 64, 64; fully connected 64 neurons. "
   ]
  },
  {
   "cell_type": "markdown",
   "metadata": {},
   "source": [
    "##  Import packages"
   ]
  },
  {
   "cell_type": "code",
   "execution_count": 1,
   "metadata": {
    "collapsed": true
   },
   "outputs": [],
   "source": [
    "import warnings\n",
    "warnings.filterwarnings('ignore')\n",
    "\n",
    "import numpy as np\n",
    "import cv2\n",
    "import matplotlib.pyplot as plt\n",
    "from time import time\n",
    "import os\n",
    "import tensorflow as tf\n",
    "from time import time\n",
    "\n",
    "from pylab import rcParams\n",
    "rcParams['figure.figsize'] = 12,10"
   ]
  },
  {
   "cell_type": "markdown",
   "metadata": {},
   "source": [
    "##  Fetch dataset"
   ]
  },
  {
   "cell_type": "code",
   "execution_count": 2,
   "metadata": {},
   "outputs": [
    {
     "name": "stdout",
     "output_type": "stream",
     "text": [
      "Class 0: 'negatives', 9475 images loaded\n",
      "Class 1: 'positives', 3690 images loaded\n"
     ]
    }
   ],
   "source": [
    "#All images provided to the classifier should have fixed and equal sizes\n",
    "dim = (64, 64)\n",
    "\n",
    "def fetch_category_images(path_to_subject, subject_number):\n",
    "    \n",
    "    X = np.array([])\n",
    "    index = 0\n",
    "    for subject_img in os.listdir(path_to_subject): #for each image in this subject's folder\n",
    "        img_path = os.path.join(path_to_subject, subject_img)\n",
    "        if img_path.endswith(\".pgm\") or img_path.endswith(\".png\") or img_path.endswith(\".jpg\") or img_path.endswith(\".jpeg\"):\n",
    "            #Read image, convert it to grayscale and resize every image to a fixed size  \n",
    "            img = cv2.resize(cv2.imread(img_path, 0), dim, interpolation = cv2.INTER_AREA) \n",
    "            \n",
    "            #img_data = img.ravel()  #Flatten each image, so that each sample is a 1D vector\n",
    "            img_data = img[np.newaxis, :, :]\n",
    "            X = img_data if not X.shape[0] else np.vstack((X, img_data))\n",
    "            index += 1\n",
    "\n",
    "    y = np.empty(index, dtype = int) #index = total no. of samples\n",
    "    y.fill(subject_number)  #add labels\n",
    "    return X, y\n",
    "\n",
    "def fetch_data(dataset_path):\n",
    "\n",
    "    # Get a the list of folder names in the path to dataset\n",
    "    labels_list = [d for d in os.listdir(dataset_path) if \".\" not in str(d)]\n",
    "    X = np.empty([0, dim[0], dim[1]])\n",
    "    y = np.empty([0])\n",
    "\n",
    "    for i in range(0, len(labels_list)):  #for each person\n",
    "        subject = str(labels_list[i])  #person i in list of ppl\n",
    "        path_to_subject = os.path.join(dataset_path, subject) #full path to this person's directory\n",
    "        \n",
    "        #Read all images in this folder (all images of this person)\n",
    "        X_, y_ = fetch_category_images(path_to_subject, i)\n",
    "        X = np.concatenate((X, X_), axis=0)\n",
    "        y = np.append(y, y_)\n",
    "        print(\"Class {}: '{}', {} images loaded\".format(i, labels_list[i], X_.shape[0]))\n",
    "\n",
    "    return X, y, labels_list\n",
    "\n",
    "# Load training data \n",
    "dataset_path = \"Smile_dataset/\"\n",
    "X, y, labels_list  = fetch_data(dataset_path)"
   ]
  },
  {
   "cell_type": "code",
   "execution_count": 3,
   "metadata": {},
   "outputs": [
    {
     "name": "stdout",
     "output_type": "stream",
     "text": [
      "Dataset consists of 13165 samples and  2 classes\n",
      "Data: (13165, 64, 64) and one hot encoded labels: (13165, 2)\n",
      " \n",
      "Training data (10532, 64, 64), test data (2633, 64, 64)\n"
     ]
    }
   ],
   "source": [
    "from sklearn.model_selection import train_test_split\n",
    "from sklearn.preprocessing import OneHotEncoder\n",
    "\n",
    "n_classes = len(np.unique(y))\n",
    "print(\"Dataset consists of {} samples and  {} classes\".format(X.shape[0], n_classes))\n",
    "encoder = OneHotEncoder()\n",
    "labels = encoder.fit_transform(np.reshape(y, (-1, 1))).toarray()\n",
    "\n",
    "print(\"Data: {} and one hot encoded labels: {}\".format(X.shape, labels.shape))                                                                                           \n",
    "print(\" \")\n",
    "X_train, X_test, y_train, y_test = train_test_split(X, labels, test_size=0.20, random_state=42)\n",
    "print(\"Training data {}, test data {}\".format(X_train.shape,X_test.shape))"
   ]
  },
  {
   "cell_type": "markdown",
   "metadata": {},
   "source": [
    "##  Train CNN"
   ]
  },
  {
   "cell_type": "code",
   "execution_count": 4,
   "metadata": {
    "scrolled": true
   },
   "outputs": [
    {
     "name": "stdout",
     "output_type": "stream",
     "text": [
      "EPOCH 0\n",
      "Train accuracy = 0.875, train loss = 0.343394935131073\n",
      "Validation loss: 0.3513079881668091, minimum loss: 0.3513079881668091, validation accuracy: 0.8742879033088684\n",
      " \n",
      "EPOCH 1\n",
      "Train accuracy = 0.890625, train loss = 0.24759231507778168\n",
      "Validation loss: 0.2835156321525574, minimum loss: 0.2835156321525574, validation accuracy: 0.8879604935646057\n",
      " \n",
      "EPOCH 2\n",
      "Train accuracy = 0.9375, train loss = 0.15811553597450256\n",
      "Validation loss: 0.26932233572006226, minimum loss: 0.26932233572006226, validation accuracy: 0.8982149362564087\n",
      " \n",
      "EPOCH 3\n",
      "Train accuracy = 0.96875, train loss = 0.09404662251472473\n",
      "Validation loss: 0.2892078459262848, minimum loss: 0.26932233572006226, validation accuracy: 0.8860615491867065\n",
      " \n",
      "EPOCH 4\n",
      "Train accuracy = 0.984375, train loss = 0.09675861895084381\n",
      "Validation loss: 0.3423548638820648, minimum loss: 0.26932233572006226, validation accuracy: 0.873148500919342\n",
      " \n",
      "EPOCH 5\n",
      "Train accuracy = 0.921875, train loss = 0.18473386764526367\n",
      "Validation loss: 0.31274375319480896, minimum loss: 0.26932233572006226, validation accuracy: 0.9001139402389526\n",
      " \n",
      "EPOCH 6\n",
      "Train accuracy = 0.984375, train loss = 0.05043816566467285\n",
      "Validation loss: 0.32836002111434937, minimum loss: 0.26932233572006226, validation accuracy: 0.8936574459075928\n",
      " \n",
      "EPOCH 7\n",
      "Train accuracy = 0.984375, train loss = 0.09186258167028427\n",
      "Validation loss: 0.4086258113384247, minimum loss: 0.26932233572006226, validation accuracy: 0.8989745378494263\n",
      " \n",
      "EPOCH 8\n",
      "Train accuracy = 0.984375, train loss = 0.04362073540687561\n",
      "Validation loss: 0.4300171434879303, minimum loss: 0.26932233572006226, validation accuracy: 0.8944169878959656\n",
      " \n",
      "EPOCH 9\n",
      "Train accuracy = 0.96875, train loss = 0.07420015335083008\n",
      "Validation loss: 0.37804993987083435, minimum loss: 0.26932233572006226, validation accuracy: 0.8879604935646057\n",
      " \n",
      "EPOCH 10\n",
      "Train accuracy = 0.953125, train loss = 0.07948774099349976\n",
      "Validation loss: 0.42812275886535645, minimum loss: 0.26932233572006226, validation accuracy: 0.8909988403320312\n",
      " \n",
      "EPOCH 11\n",
      "Train accuracy = 0.953125, train loss = 0.07975208759307861\n",
      "Validation loss: 0.4817553460597992, minimum loss: 0.26932233572006226, validation accuracy: 0.8906190395355225\n",
      " \n",
      "EPOCH 12\n",
      "Train accuracy = 0.984375, train loss = 0.051646120846271515\n",
      "Validation loss: 0.5239344239234924, minimum loss: 0.26932233572006226, validation accuracy: 0.8777060508728027\n",
      " \n",
      "EPOCH 13\n",
      "Train accuracy = 1.0, train loss = 0.02009338140487671\n",
      "Validation loss: 0.5540146231651306, minimum loss: 0.26932233572006226, validation accuracy: 0.8921382427215576\n",
      " \n",
      "EPOCH 14\n",
      "Train accuracy = 0.984375, train loss = 0.09332266449928284\n",
      "Validation loss: 0.48648396134376526, minimum loss: 0.26932233572006226, validation accuracy: 0.8883402943611145\n",
      " \n",
      "EPOCH 15\n",
      "Train accuracy = 0.984375, train loss = 0.024531684815883636\n",
      "Validation loss: 0.6160467267036438, minimum loss: 0.26932233572006226, validation accuracy: 0.8826434016227722\n",
      " \n",
      "EPOCH 16\n",
      "Train accuracy = 1.0, train loss = 0.002106265164911747\n",
      "Validation loss: 0.5881672501564026, minimum loss: 0.26932233572006226, validation accuracy: 0.8997341394424438\n",
      " \n",
      "EPOCH 17\n",
      "Train accuracy = 0.984375, train loss = 0.05131863057613373\n",
      "Validation loss: 0.5196731090545654, minimum loss: 0.26932233572006226, validation accuracy: 0.8761868476867676\n",
      " \n",
      "EPOCH 18\n",
      "Train accuracy = 0.984375, train loss = 0.04596402123570442\n",
      "Validation loss: 0.6594241261482239, minimum loss: 0.26932233572006226, validation accuracy: 0.885301947593689\n",
      " \n",
      "EPOCH 19\n",
      "Train accuracy = 1.0, train loss = 0.02226109243929386\n",
      "Validation loss: 0.7043134570121765, minimum loss: 0.26932233572006226, validation accuracy: 0.8883402943611145\n",
      " \n",
      "EPOCH 20\n",
      "Train accuracy = 0.96875, train loss = 0.04201359301805496\n",
      "Validation loss: 0.6809608936309814, minimum loss: 0.26932233572006226, validation accuracy: 0.8750474452972412\n",
      " \n",
      "EPOCH 21\n",
      "Train accuracy = 1.0, train loss = 0.0056484960950911045\n",
      "Validation loss: 0.7176454067230225, minimum loss: 0.26932233572006226, validation accuracy: 0.8742879033088684\n",
      " \n",
      "EPOCH 22\n",
      "Train accuracy = 1.0, train loss = 0.005205964203923941\n",
      "Validation loss: 0.8057878613471985, minimum loss: 0.26932233572006226, validation accuracy: 0.8792251944541931\n",
      " \n",
      "** EARLY STOPPING ** \n",
      "Training took 63.171512 minutes\n",
      "INFO:tensorflow:Restoring parameters from ./cnn_imbalance1\n",
      "Final test accuracy = 0.8982149362564087\n"
     ]
    }
   ],
   "source": [
    "width = 64\n",
    "height = 64\n",
    "\n",
    "n_features = height*width\n",
    "channels = 1\n",
    "\n",
    "feature_map1 = 64\n",
    "ksize_conv1 = 2\n",
    "stride_conv1 = 1\n",
    "\n",
    "feature_map2 = 64\n",
    "ksize_conv2 = ksize_conv1\n",
    "stride_conv2 = stride_conv1\n",
    "\n",
    "pool_layer_maps2 = feature_map2\n",
    "\n",
    "n_fully_conn1 = 64\n",
    "  \n",
    "X = tf.placeholder(tf.float32, shape=[None, height, width])\n",
    "X_reshaped = tf.reshape(X, shape=[-1, height, width, channels])\n",
    "y = tf.placeholder(tf.int32, shape=[None, n_classes])\n",
    "\n",
    "xavier_init = tf.contrib.layers.xavier_initializer()\n",
    "relu_act = tf.nn.relu\n",
    "\n",
    "# ------------------ Convolutional and pooling layers ----------------------------\n",
    "\n",
    "def convolutional_layer(X, filter_, ksize, kernel_init, strides, padding):\n",
    "    convolutional_layer = tf.layers.conv2d(X, filters = filter_, kernel_initializer = kernel_init,\n",
    "                                           kernel_size = ksize, strides = strides,\n",
    "                                          padding = padding, activation = relu_act)\n",
    "    return convolutional_layer\n",
    "\n",
    "def pool_layer(convlayer, ksize, strides, padding, pool_maps):\n",
    "    pool = tf.nn.max_pool(convlayer, ksize, strides, padding)\n",
    "    dim1, dim2 = int(pool.get_shape()[1]), int(pool.get_shape()[2])\n",
    "    pool_flat = tf.reshape(pool, shape = [-1, pool_maps * dim1 * dim2])\n",
    "    return pool_flat\n",
    "\n",
    "conv_layer1 = convolutional_layer(X_reshaped, feature_map1, ksize_conv1, xavier_init, stride_conv1, padding = \"SAME\")\n",
    "\n",
    "conv_layer2 = convolutional_layer(conv_layer1, feature_map2, ksize_conv2, xavier_init, stride_conv2, padding = \"SAME\")\n",
    "\n",
    "pool_layer2_flat = pool_layer(conv_layer2, [1,2,2,1], [1,2,2,1], \"VALID\", pool_layer_maps2)\n",
    "\n",
    "# ----------------- Fully connected layer -------------------\n",
    "\n",
    "def dense_layer(input_layer, n_neurons, kernel_init, activation):\n",
    "    fully_conn = tf.layers.dense(inputs = input_layer, units = n_neurons, activation = activation,\n",
    "                                kernel_initializer = kernel_init)\n",
    "    return fully_conn\n",
    "        \n",
    "dense_layer1 = dense_layer(pool_layer2_flat, n_fully_conn1, xavier_init, relu_act)\n",
    "\n",
    "#--------------------------------------------------------------\n",
    "\n",
    "logits = tf.layers.dense(dense_layer1, n_classes)\n",
    "\n",
    "prediction = tf.nn.softmax(logits)\n",
    "\n",
    "xentropy = tf.nn.softmax_cross_entropy_with_logits(labels = y, logits = logits)\n",
    "loss = tf.reduce_mean(xentropy)\n",
    "\n",
    "optimizer = tf.train.AdamOptimizer(0.001)\n",
    "train_step = optimizer.minimize(loss)\n",
    "\n",
    "correct_preds = tf.equal(tf.argmax(prediction,1), tf.argmax(y, 1))\n",
    "accuracy = tf.reduce_mean(tf.cast(correct_preds, tf.float32))\n",
    "\n",
    "saver = tf.train.Saver()\n",
    "\n",
    "n_epochs = 100\n",
    "batch_size = 64\n",
    "n_train = X_train.shape[0]\n",
    "n_iter = n_train//batch_size\n",
    "path = \"./cnn_imbalance1\"\n",
    "\n",
    "train_loss_log, train_acc_log, val_loss_log, val_acc_log = ([] for i in range (4))\n",
    "\n",
    "sess = tf.InteractiveSession()\n",
    "init = tf.global_variables_initializer()\n",
    "init.run()\n",
    "\n",
    "#initialize variables for early stopping\n",
    "min_loss = np.infty\n",
    "epochs_without_improvement = 0 \n",
    "max_epochs_without_improvement = 20 \n",
    "\n",
    "start = time()\n",
    "for epoch in range(n_epochs):\n",
    "    for iteration in range(n_iter):\n",
    "        rand_indices = np.random.choice(n_train, batch_size, replace = False)    \n",
    "        X_batch, y_batch = X_train[rand_indices], y_train[rand_indices]\n",
    "        sess.run(train_step, feed_dict={X: X_batch, y: y_batch})\n",
    "        \n",
    "    train_loss, train_acc = sess.run([loss, accuracy], feed_dict={X: X_batch, y: y_batch})\n",
    "    train_loss_log.append(train_loss)\n",
    "    train_acc_log.append(train_acc)\n",
    "\n",
    "    val_loss, val_acc, y_pred = sess.run([loss, accuracy, prediction], feed_dict={X: X_test, y: y_test})\n",
    "    val_loss_log.append(val_loss)\n",
    "    val_acc_log.append(val_acc)\n",
    "        \n",
    "    # Early stopping \n",
    "        \n",
    "    if val_loss < min_loss:\n",
    "        save_path = saver.save(sess, path)\n",
    "        min_loss = val_loss\n",
    "        epochs_without_improvement = 0\n",
    "    else:\n",
    "        epochs_without_improvement += 1\n",
    "        if epochs_without_improvement > max_epochs_without_improvement:\n",
    "            print(\"** EARLY STOPPING ** \")\n",
    "            break\n",
    "    print(\"EPOCH {}\".format(epoch))\n",
    "    print(\"Train accuracy = {}, train loss = {}\".format(train_acc, train_loss))\n",
    "    print(\"Validation loss: {}, minimum loss: {}, validation accuracy: {}\".format(val_loss, min_loss, val_acc))\n",
    "    print(\" \")\n",
    "    \n",
    "print(\"Training took %f minutes\"%(float(time() - start)/60.0))\n",
    "\n",
    "saver.restore(sess, path)\n",
    "acc_test = accuracy.eval(feed_dict={X: X_test, y: y_test})\n",
    "print(\"Final test accuracy = {}\".format(acc_test))\n",
    "\n",
    "y_predicted = logits.eval(feed_dict = {X : X_test})"
   ]
  },
  {
   "cell_type": "markdown",
   "metadata": {},
   "source": [
    "##  Evaluate the model"
   ]
  },
  {
   "cell_type": "code",
   "execution_count": 5,
   "metadata": {},
   "outputs": [
    {
     "name": "stdout",
     "output_type": "stream",
     "text": [
      "             precision    recall  f1-score   support\n",
      "\n",
      "  negatives       0.91      0.96      0.93      1937\n",
      "  positives       0.86      0.73      0.79       696\n",
      "\n",
      "avg / total       0.90      0.90      0.90      2633\n",
      "\n"
     ]
    }
   ],
   "source": [
    "from sklearn.metrics import classification_report\n",
    "\n",
    "print(classification_report(y_test.argmax(axis=1), y_predicted.argmax(axis=1), target_names = labels_list))"
   ]
  },
  {
   "cell_type": "code",
   "execution_count": 12,
   "metadata": {},
   "outputs": [
    {
     "data": {
      "image/png": "[encoded data removed]",
      "text/plain": [
       "<matplotlib.figure.Figure at 0x7f28f805fd68>"
      ]
     },
     "metadata": {},
     "output_type": "display_data"
    }
   ],
   "source": [
    "#plot the training + testing loss and accuracy\n",
    "%matplotlib inline\n",
    "plt.style.use(\"ggplot\")\n",
    "plt.figure()\n",
    "\n",
    "num_epochs_trained = len(train_loss_log)\n",
    "plt.plot(np.arange(0, num_epochs_trained), train_loss_log, label=\"train loss\", c = \"red\")\n",
    "plt.plot(np.arange(0, num_epochs_trained), val_loss_log, label=\"validation loss\", c = \"orange\")\n",
    "plt.plot(np.arange(0, num_epochs_trained), train_acc_log, label=\"train accuracy\", c = \"blue\")\n",
    "plt.plot(np.arange(0, num_epochs_trained), val_acc_log, label=\"validation accuracy\", c = \"green\")\n",
    "\n",
    "plt.title(\"Learning Curves\")\n",
    "plt.xlabel(\"Epoch number\")\n",
    "plt.ylabel(\"Accuracy/Loss\")\n",
    "plt.ylim([0, 2])\n",
    "plt.legend()\n",
    "\n",
    "plt.gcf().set_size_inches((12, 10))\n",
    "plt.show()"
   ]
  },
  {
   "cell_type": "code",
   "execution_count": null,
   "metadata": {
    "collapsed": true
   },
   "outputs": [],
   "source": []
  }
 ],
 "metadata": {
  "kernelspec": {
   "display_name": "Python 3",
   "language": "python",
   "name": "python3"
  },
  "language_info": {
   "codemirror_mode": {
    "name": "ipython",
    "version": 3
   },
   "file_extension": ".py",
   "mimetype": "text/x-python",
   "name": "python",
   "nbconvert_exporter": "python",
   "pygments_lexer": "ipython3",
   "version": "3.6.3"
  },
  "widgets": {
   "state": {},
   "version": "1.1.2"
  }
 },
 "nbformat": 4,
 "nbformat_minor": 2
}
