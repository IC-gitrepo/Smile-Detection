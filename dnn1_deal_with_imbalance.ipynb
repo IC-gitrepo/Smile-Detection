{
 "cells": [
  {
   "cell_type": "markdown",
   "metadata": {},
   "source": [
    "# Deep Neural Network for Smile Detection\n",
    "    Handle class imbalance by scaling the logits"
   ]
  },
  {
   "cell_type": "markdown",
   "metadata": {
    "collapsed": true
   },
   "source": [
    "Accuaracy on test set =  0.869351\n",
    "\n",
    "Classification report : \n",
    "\n",
    "             precision    recall  f1-score   support\n",
    "\n",
    "         negatives       0.92      0.91      0.91      1937\n",
    "  \n",
    "         positives       0.75      0.79      0.77       696\n",
    "\n",
    "        avg / total       0.88      0.88      0.88      2633"
   ]
  },
  {
   "cell_type": "markdown",
   "metadata": {},
   "source": [
    "##  Import packages"
   ]
  },
  {
   "cell_type": "code",
   "execution_count": 1,
   "metadata": {
    "collapsed": true
   },
   "outputs": [],
   "source": [
    "import warnings\n",
    "warnings.filterwarnings('ignore')\n",
    "\n",
    "import numpy as np\n",
    "import matplotlib.pyplot as plt\n",
    "from time import time\n",
    "import os\n",
    "import tensorflow as tf\n",
    "from time import time\n",
    "\n",
    "from pylab import rcParams\n",
    "rcParams['figure.figsize'] = 12,10\n",
    "\n",
    "import cv2"
   ]
  },
  {
   "cell_type": "markdown",
   "metadata": {},
   "source": [
    "##  Fetch dataset"
   ]
  },
  {
   "cell_type": "code",
   "execution_count": 2,
   "metadata": {},
   "outputs": [
    {
     "name": "stdout",
     "output_type": "stream",
     "text": [
      "Class 0: 'negatives', 9475 images loaded\n",
      "Class 1: 'positives', 3690 images loaded\n"
     ]
    }
   ],
   "source": [
    "#All images provided to the classifier should have fixed and equal sizes\n",
    "dim = (64, 64)\n",
    "\n",
    "def fetch_category_images(path_to_subject, subject_number):\n",
    "    \n",
    "    X = np.array([])\n",
    "    index = 0\n",
    "    for subject_img in os.listdir(path_to_subject): #for each image in this subject's folder\n",
    "        img_path = os.path.join(path_to_subject, subject_img)\n",
    "        if img_path.endswith(\".pgm\") or img_path.endswith(\".png\") or img_path.endswith(\".jpg\") or img_path.endswith(\".jpeg\"):\n",
    "            #Read image, convert it to grayscale and resize every image to a fixed size  \n",
    "            img = cv2.resize(cv2.imread(img_path, 0), dim, interpolation = cv2.INTER_AREA) \n",
    "            \n",
    "            #img_data = img.ravel()  #Flatten each image, so that each sample is a 1D vector\n",
    "            img_data = img[np.newaxis, :, :]\n",
    "            X = img_data if not X.shape[0] else np.vstack((X, img_data))\n",
    "            index += 1\n",
    "\n",
    "    y = np.empty(index, dtype = int) #index = total no. of samples\n",
    "    y.fill(subject_number)  #add labels\n",
    "    return X, y\n",
    "\n",
    "def fetch_data(dataset_path):\n",
    "\n",
    "    # Get a the list of folder names in the path to dataset\n",
    "    labels_list = [d for d in os.listdir(dataset_path) if \".\" not in str(d)]\n",
    "    X = np.empty([0, dim[0], dim[1]])\n",
    "    y = np.empty([0])\n",
    "\n",
    "    for i in range(0, len(labels_list)):  #for each person\n",
    "        subject = str(labels_list[i])  #person i in list of ppl\n",
    "        path_to_subject = os.path.join(dataset_path, subject) #full path to this person's directory\n",
    "        \n",
    "        #Read all images in this folder (all images of this person)\n",
    "        X_, y_ = fetch_category_images(path_to_subject, i)\n",
    "        X = np.concatenate((X, X_), axis=0)\n",
    "        y = np.append(y, y_)\n",
    "        print(\"Class {}: '{}', {} images loaded\".format(i, labels_list[i], X_.shape[0]))\n",
    "\n",
    "    return X, y, labels_list\n",
    "\n",
    "# Load training data \n",
    "dataset_path = \"Smile_dataset/\"\n",
    "X, y, labels_list  = fetch_data(dataset_path)"
   ]
  },
  {
   "cell_type": "code",
   "execution_count": 3,
   "metadata": {},
   "outputs": [
    {
     "name": "stdout",
     "output_type": "stream",
     "text": [
      "Dataset consists of 13165 samples and  2 classes\n",
      "Data: (13165, 64, 64) and one hot encoded labels: (13165, 2)\n",
      " \n",
      "Training data (10532, 64, 64), test data (2633, 64, 64)\n"
     ]
    }
   ],
   "source": [
    "from sklearn.model_selection import train_test_split\n",
    "from sklearn.preprocessing import OneHotEncoder\n",
    "\n",
    "n_classes = len(np.unique(y))\n",
    "print(\"Dataset consists of {} samples and  {} classes\".format(X.shape[0], n_classes))\n",
    "encoder = OneHotEncoder()\n",
    "labels = encoder.fit_transform(np.reshape(y, (-1, 1))).toarray()\n",
    "\n",
    "print(\"Data: {} and one hot encoded labels: {}\".format(X.shape, labels.shape))                                                                                           \n",
    "print(\" \")\n",
    "X_train, X_test, y_train, y_test = train_test_split(X, labels, test_size=0.20, random_state=42)\n",
    "print(\"Training data {}, test data {}\".format(X_train.shape,X_test.shape))"
   ]
  },
  {
   "cell_type": "markdown",
   "metadata": {},
   "source": [
    "## Reduce dimensionality"
   ]
  },
  {
   "cell_type": "code",
   "execution_count": 4,
   "metadata": {},
   "outputs": [
    {
     "name": "stdout",
     "output_type": "stream",
     "text": [
      "PCA reduced dimensionality from 4096 to 176\n",
      "New training and test data (10532, 176) and (2633, 176)\n"
     ]
    }
   ],
   "source": [
    "X_train = X_train.reshape(X_train.shape[0], -1)\n",
    "X_test = X_test.reshape(X_test.shape[0], -1)\n",
    "\n",
    "from sklearn.decomposition import PCA\n",
    "\n",
    "pca = PCA(n_components = 0.95, whiten=True).fit(X_train)  #preserve 95% of variance\n",
    "n_comp = pca.n_components_\n",
    "print(\"PCA reduced dimensionality from {} to {}\".format(X_train.shape[1], n_comp))\n",
    "\n",
    "X_train_pca = pca.transform(X_train)\n",
    "X_test_pca = pca.transform(X_test)\n",
    "\n",
    "print(\"New training and test data\", X_train_pca.shape, \"and\", X_test_pca.shape)"
   ]
  },
  {
   "cell_type": "markdown",
   "metadata": {},
   "source": [
    "##  Handle data imbalance: Scale logits\n",
    "\n",
    "Solution from here: https://stackoverflow.com/questions/35155655/loss-function-for-class-imbalanced-binary-classifier-in-tensor-flow\n",
    "\n",
    "more explanation : https://www.quora.com/How-do-I-implement-cost-sensitive-learning-in-TensorFlow-to-penalize-for-misclassification-on-minority-classes-data-has-a-class-imbalance-problem"
   ]
  },
  {
   "cell_type": "code",
   "execution_count": 26,
   "metadata": {},
   "outputs": [
    {
     "name": "stdout",
     "output_type": "stream",
     "text": [
      "Samples per class: negatives =  9475.0 and positives = 3690.0\n",
      "Ratio computed 0.280288644132\n",
      "Class weight computed =  [0.28028864413216864, 0.71971135586783141]\n"
     ]
    }
   ],
   "source": [
    "#Compute class weight\n",
    "samples_per_class = labels.sum(axis=0)\n",
    "class1, n_class1 = labels_list[0], samples_per_class[0]\n",
    "class2, n_class2 = labels_list[1], samples_per_class[1]\n",
    "print(\"Samples per class: {} =  {} and {} = {}\".format(class1, n_class1, class2, n_class2))\n",
    "\n",
    "total_samples = n_class1 + n_class2 # 13,165\n",
    "\n",
    "# class_weight = list((n_class1, n_class2)/total_samples)\n",
    "# print(\"Total samples in dataset = \".format(total_samples))\n",
    "\n",
    "# print(\"Class weight computed:\", class_weight)\n",
    "\n",
    "ratio = n_class2 / (n_class1 + n_class2)\n",
    "print(\"Ratio computed\", ratio)\n",
    "class_weight = [ratio, 1.0 - ratio]\n",
    "\n",
    "# weight vector for classes0 and 1:\n",
    "\n",
    "# [ 1 - n_class0 / total , 1 - n_class1 / total]\n",
    "\n",
    "tf_class_weight = tf.constant(class_weight)  #[0.28028864413216864, 0.7197113558678314]\n",
    "print(\"Class weight computed = \", class_weight)"
   ]
  },
  {
   "cell_type": "markdown",
   "metadata": {},
   "source": [
    "### We have only 3690 positives, as compared to 9475 negatives. Notice that the weights are computed in such a way, that the weight for the minor/  1 or positive class is greater - this tells our model to pay special attention to class 1."
   ]
  },
  {
   "cell_type": "code",
   "execution_count": 34,
   "metadata": {
    "scrolled": true
   },
   "outputs": [
    {
     "name": "stdout",
     "output_type": "stream",
     "text": [
      "EPOCH 0\n",
      "Train accuracy = 0.984375, train loss = 0.10318525992551894\n",
      "Validation loss: 0.3248581110231075, minimum loss: 0.3248581110231075, validation accuracy: 0.8564375042915344\n",
      " \n",
      "EPOCH 1\n",
      "Train accuracy = 0.9375, train loss = 0.1646799733038905\n",
      "Validation loss: 0.3099255307399318, minimum loss: 0.3099255307399318, validation accuracy: 0.8693505525588989\n",
      " \n",
      "EPOCH 2\n",
      "Train accuracy = 0.96875, train loss = 0.09386846300202464\n",
      "Validation loss: 0.31161778191946654, minimum loss: 0.3099255307399318, validation accuracy: 0.8784656524658203\n",
      " \n",
      "EPOCH 3\n",
      "Train accuracy = 1.0, train loss = 0.03484253799170645\n",
      "Validation loss: 0.3301697311439016, minimum loss: 0.3099255307399318, validation accuracy: 0.8784656524658203\n",
      " \n",
      "EPOCH 4\n",
      "Train accuracy = 0.984375, train loss = 0.038797502613314605\n",
      "Validation loss: 0.391101528659476, minimum loss: 0.3099255307399318, validation accuracy: 0.8720090985298157\n",
      " \n",
      "EPOCH 5\n",
      "Train accuracy = 0.984375, train loss = 0.042125821850776485\n",
      "Validation loss: 0.39738941207905576, minimum loss: 0.3099255307399318, validation accuracy: 0.8777060508728027\n",
      " \n",
      "EPOCH 6\n",
      "Train accuracy = 1.0, train loss = 0.004230282337207319\n",
      "Validation loss: 0.43458748090308313, minimum loss: 0.3099255307399318, validation accuracy: 0.8777060508728027\n",
      " \n",
      "EPOCH 7\n",
      "Train accuracy = 1.0, train loss = 0.007380066333043604\n",
      "Validation loss: 0.4524572634935142, minimum loss: 0.3099255307399318, validation accuracy: 0.8822636008262634\n",
      " \n",
      "EPOCH 8\n",
      "Train accuracy = 1.0, train loss = 0.011464248926414124\n",
      "Validation loss: 0.5118273381174762, minimum loss: 0.3099255307399318, validation accuracy: 0.8815039992332458\n",
      " \n",
      "EPOCH 9\n",
      "Train accuracy = 1.0, train loss = 0.003180157867403642\n",
      "Validation loss: 0.5367096040243959, minimum loss: 0.3099255307399318, validation accuracy: 0.8811241984367371\n",
      " \n",
      "EPOCH 10\n",
      "Train accuracy = 1.0, train loss = 0.0015016123623395852\n",
      "Validation loss: 0.5762684451649491, minimum loss: 0.3099255307399318, validation accuracy: 0.8761868476867676\n",
      " \n",
      "EPOCH 11\n",
      "Train accuracy = 1.0, train loss = 0.010014738438427168\n",
      "Validation loss: 0.5716212393284748, minimum loss: 0.3099255307399318, validation accuracy: 0.8788454532623291\n",
      " \n",
      "EPOCH 12\n",
      "Train accuracy = 1.0, train loss = 0.0018815957595410904\n",
      "Validation loss: 0.585641687958124, minimum loss: 0.3099255307399318, validation accuracy: 0.877326250076294\n",
      " \n",
      "EPOCH 13\n",
      "Train accuracy = 1.0, train loss = 0.004603230502268677\n",
      "Validation loss: 0.6539856287691244, minimum loss: 0.3099255307399318, validation accuracy: 0.8723888993263245\n",
      " \n",
      "EPOCH 14\n",
      "Train accuracy = 1.0, train loss = 0.005772759760891415\n",
      "Validation loss: 0.6317734094235898, minimum loss: 0.3099255307399318, validation accuracy: 0.8613748550415039\n",
      " \n",
      "EPOCH 15\n",
      "Train accuracy = 1.0, train loss = 0.010703455558479673\n",
      "Validation loss: 0.6818436583279822, minimum loss: 0.3099255307399318, validation accuracy: 0.8663122057914734\n",
      " \n",
      "EPOCH 16\n",
      "Train accuracy = 1.0, train loss = 0.00625714822021339\n",
      "Validation loss: 0.6515604699604618, minimum loss: 0.3099255307399318, validation accuracy: 0.8742879033088684\n",
      " \n",
      "EPOCH 17\n",
      "Train accuracy = 1.0, train loss = 0.002341667276044339\n",
      "Validation loss: 0.720700036166591, minimum loss: 0.3099255307399318, validation accuracy: 0.8708697557449341\n",
      " \n",
      "EPOCH 18\n",
      "Train accuracy = 1.0, train loss = 0.0010498152323345105\n",
      "Validation loss: 0.7145893139495891, minimum loss: 0.3099255307399318, validation accuracy: 0.8780858516693115\n",
      " \n",
      "EPOCH 19\n",
      "Train accuracy = 1.0, train loss = 0.00018238977951709278\n",
      "Validation loss: 0.7460624654690973, minimum loss: 0.3099255307399318, validation accuracy: 0.8796049952507019\n",
      " \n",
      "EPOCH 20\n",
      "Train accuracy = 1.0, train loss = 0.001287232621614996\n",
      "Validation loss: 0.8012251031897593, minimum loss: 0.3099255307399318, validation accuracy: 0.8693505525588989\n",
      " \n",
      "EPOCH 21\n",
      "Train accuracy = 1.0, train loss = 0.0015199678411617875\n",
      "Validation loss: 0.7650340188691246, minimum loss: 0.3099255307399318, validation accuracy: 0.8761868476867676\n",
      " \n",
      "** EARLY STOPPING ** \n",
      "Training took 0.229384 minutes\n",
      "INFO:tensorflow:Restoring parameters from ./dnn_imbalance3\n",
      "Final test accuracy = 0.8693505525588989\n"
     ]
    }
   ],
   "source": [
    "# tf.reset_default_graph()\n",
    "\n",
    "n_hidden1 = 200\n",
    "n_hidden2 = 200\n",
    "\n",
    "n_features = n_comp\n",
    "\n",
    "xavier_init = tf.contrib.layers.xavier_initializer()\n",
    "\n",
    "X = tf.placeholder(tf.float64, shape=(None, n_features)) #data is float64\n",
    "y = tf.placeholder(tf.float64, shape=(None, n_classes))  #is float64\n",
    "\n",
    "hidden1 = tf.layers.dense(X, n_hidden1, activation = tf.nn.relu, kernel_initializer = xavier_init)\n",
    "\n",
    "hidden2 = tf.layers.dense(hidden1, n_hidden2, activation = tf.nn.relu, kernel_initializer = xavier_init)\n",
    "\n",
    "logits = tf.layers.dense(hidden2, n_classes)\n",
    "weighted_logits = tf.multiply(logits, class_weight)\n",
    "\n",
    "prediction = tf.nn.softmax(weighted_logits)\n",
    "\n",
    "xentropy = tf.nn.softmax_cross_entropy_with_logits(labels = y, logits = weighted_logits)\n",
    "loss = tf.reduce_mean(xentropy)\n",
    "\n",
    "optimizer = tf.train.AdamOptimizer(0.001)\n",
    "train_step = optimizer.minimize(loss)\n",
    "\n",
    "correct_preds = tf.equal(tf.argmax(prediction,1), tf.argmax(y, 1))\n",
    "accuracy = tf.reduce_mean(tf.cast(correct_preds, tf.float32))\n",
    "\n",
    "saver = tf.train.Saver()\n",
    "\n",
    "n_epochs = 100\n",
    "batch_size = 64\n",
    "n_train = X_train_pca.shape[0]\n",
    "n_iter = n_train//batch_size\n",
    "path = \"./dnn_imbalance3\"\n",
    "\n",
    "train_loss_log, train_acc_log, val_loss_log, val_acc_log = ([] for i in range (4))\n",
    "\n",
    "sess = tf.InteractiveSession()\n",
    "init = tf.global_variables_initializer()\n",
    "init.run()\n",
    "\n",
    "#initialize variables for early stopping\n",
    "min_loss = np.infty\n",
    "epochs_without_improvement = 0 \n",
    "max_epochs_without_improvement = 20   \n",
    "\n",
    "start = time()\n",
    "for epoch in range(n_epochs):\n",
    "    for iteration in range(n_iter):\n",
    "        rand_indices = np.random.choice(n_train, batch_size, replace = False)    \n",
    "        X_batch, y_batch = X_train_pca[rand_indices], y_train[rand_indices]\n",
    "        sess.run(train_step, feed_dict={X: X_batch, y: y_batch})\n",
    "        \n",
    "    train_loss, train_acc = sess.run([loss, accuracy], feed_dict={X: X_batch, y: y_batch})\n",
    "    train_loss_log.append(train_loss)\n",
    "    train_acc_log.append(train_acc)\n",
    "\n",
    "    val_loss, val_acc, y_pred = sess.run([loss, accuracy, prediction], feed_dict={X: X_test_pca, y: y_test})\n",
    "    val_loss_log.append(val_loss)\n",
    "    val_acc_log.append(val_acc)\n",
    "        \n",
    "    # Early stopping \n",
    "        \n",
    "    if val_loss < min_loss:\n",
    "        save_path = saver.save(sess, path)\n",
    "        min_loss = val_loss\n",
    "        epochs_without_improvement = 0\n",
    "    else:\n",
    "        epochs_without_improvement += 1\n",
    "        if epochs_without_improvement > max_epochs_without_improvement:\n",
    "            print(\"** EARLY STOPPING ** \")\n",
    "            break\n",
    "    print(\"EPOCH {}\".format(epoch))\n",
    "    print(\"Train accuracy = {}, train loss = {}\".format(train_acc, train_loss))\n",
    "    print(\"Validation loss: {}, minimum loss: {}, validation accuracy: {}\".format(val_loss, min_loss, val_acc))\n",
    "    print(\" \")\n",
    "    \n",
    "\n",
    "print(\"Training took %f minutes\"%(float(time() - start)/60.0))\n",
    "\n",
    "saver.restore(sess, path)\n",
    "acc_test = accuracy.eval(feed_dict={X: X_test_pca, y: y_test})\n",
    "print(\"Final test accuracy = {}\".format(acc_test))\n",
    "\n",
    "y_predicted = logits.eval(feed_dict = {X : X_test_pca})"
   ]
  },
  {
   "cell_type": "markdown",
   "metadata": {},
   "source": [
    "##  Evaluate the model"
   ]
  },
  {
   "cell_type": "code",
   "execution_count": 35,
   "metadata": {},
   "outputs": [
    {
     "name": "stdout",
     "output_type": "stream",
     "text": [
      "Accuaracy on set set =  0.869351\n",
      "Classification report : \n",
      "             precision    recall  f1-score   support\n",
      "\n",
      "  negatives       0.92      0.91      0.91      1937\n",
      "  positives       0.75      0.79      0.77       696\n",
      "\n",
      "avg / total       0.88      0.88      0.88      2633\n",
      "\n"
     ]
    }
   ],
   "source": [
    "from sklearn.metrics import classification_report\n",
    "\n",
    "print(\"Accuaracy on set set = \", acc_test)\n",
    "print(\"Classification report : \")\n",
    "print(classification_report(y_test.argmax(axis=1), y_predicted.argmax(axis=1), target_names = labels_list))"
   ]
  },
  {
   "cell_type": "code",
   "execution_count": 36,
   "metadata": {},
   "outputs": [
    {
     "data": {
      "image/png": "[encoded data removed]",
      "text/plain": [
       "<matplotlib.figure.Figure at 0x7fc5ef055c88>"
      ]
     },
     "metadata": {},
     "output_type": "display_data"
    }
   ],
   "source": [
    "#plot the training + testing loss and accuracy\n",
    "%matplotlib inline\n",
    "plt.style.use(\"ggplot\")\n",
    "plt.figure()\n",
    "\n",
    "num_epochs_trained = len(train_loss_log)\n",
    "plt.plot(np.arange(0, num_epochs_trained), train_loss_log, label=\"train loss\", c = \"red\")\n",
    "plt.plot(np.arange(0, num_epochs_trained), val_loss_log, label=\"validation loss\", c = \"orange\")\n",
    "plt.plot(np.arange(0, num_epochs_trained), train_acc_log, label=\"train accuracy\", c = \"blue\")\n",
    "plt.plot(np.arange(0, num_epochs_trained), val_acc_log, label=\"validation accuracy\", c = \"green\")\n",
    "\n",
    "plt.title(\"Learning Curves\")\n",
    "plt.xlabel(\"Epoch number\")\n",
    "plt.ylabel(\"Accuracy/Loss\")\n",
    "plt.ylim([0, 2])\n",
    "plt.legend()\n",
    "\n",
    "plt.gcf().set_size_inches((12, 10))\n",
    "plt.show()"
   ]
  },
  {
   "cell_type": "code",
   "execution_count": null,
   "metadata": {
    "collapsed": true
   },
   "outputs": [],
   "source": []
  }
 ],
 "metadata": {
  "kernelspec": {
   "display_name": "Python 3",
   "language": "python",
   "name": "python3"
  },
  "language_info": {
   "codemirror_mode": {
    "name": "ipython",
    "version": 3
   },
   "file_extension": ".py",
   "mimetype": "text/x-python",
   "name": "python",
   "nbconvert_exporter": "python",
   "pygments_lexer": "ipython3",
   "version": "3.6.3"
  },
  "widgets": {
   "state": {},
   "version": "1.1.2"
  }
 },
 "nbformat": 4,
 "nbformat_minor": 2
}
